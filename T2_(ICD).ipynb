{
  "nbformat": 4,
  "nbformat_minor": 0,
  "metadata": {
    "colab": {
      "provenance": []
    },
    "kernelspec": {
      "name": "python3",
      "display_name": "Python 3"
    },
    "language_info": {
      "name": "python"
    }
  },
  "cells": [
    {
      "cell_type": "code",
      "execution_count": 2,
      "metadata": {
        "colab": {
          "base_uri": "https://localhost:8080/",
          "height": 675
        },
        "id": "ZBMQieTxfUaN",
        "outputId": "6c096dfc-c994-42fe-8606-e34e0d9b1e04"
      },
      "outputs": [
        {
          "output_type": "stream",
          "name": "stdout",
          "text": [
            "Index(['Unnamed: 0', 'preço atual ', 'preço original ', 'nome do produto ',\n",
            "       'marca', 'loja/revendedor', 'link', 'nota'],\n",
            "      dtype='object')\n",
            "media_geral: 76.39154444444445\n",
            "desvio_padrao: 313.15417009826996\n",
            "mediana: 1549.0\n",
            "maximo: 1549.0\n",
            "minimo: 1.0\n",
            "a amplitude é: 1548.0\n"
          ]
        },
        {
          "output_type": "execute_result",
          "data": {
            "text/plain": [
              "<Axes: xlabel='marca'>"
            ]
          },
          "metadata": {},
          "execution_count": 2
        },
        {
          "output_type": "display_data",
          "data": {
            "text/plain": [
              "<Figure size 640x480 with 1 Axes>"
            ],
            "image/png": "[encoded data removed]"
          },
          "metadata": {}
        }
      ],
      "source": [
        "import pandas as pd\n",
        "\n",
        "nome_do_arquivo = 'produtos.T2.csv'\n",
        "\n",
        "df = pd.read_csv(nome_do_arquivo, decimal=',')\n",
        "\n",
        "print (df.columns)\n",
        "\n",
        "df['preço atual '] = df['preço atual '].str.replace('R$', '').str.replace(',', '.', regex=True)\n",
        "df['preço atual '] = df['preço atual '].str.replace(r'\\..*\\.', '.', regex=True)\n",
        "df['preço atual '] = pd.to_numeric(df['preço atual '], errors='coerce')\n",
        "\n",
        "media_geral = df ['preço atual '].mean()\n",
        "desvio_padrao = df['preço atual '].std()\n",
        "\n",
        "print('media_geral:', media_geral)\n",
        "print('desvio_padrao:', desvio_padrao)\n",
        "\n",
        "mediana = df['preço atual '].max()\n",
        "print('mediana:', mediana)\n",
        "\n",
        "maximo = df['preço atual '].max()\n",
        "minimo = df['preço atual '].min()\n",
        "\n",
        "print('maximo:', maximo)\n",
        "print('minimo:', minimo)\n",
        "\n",
        "amplitude = maximo - minimo\n",
        "print('a amplitude é:', amplitude)\n",
        "\n",
        "grouped = df.groupby('marca')['preço atual '].agg(['mean', 'std'])\n",
        "grouped.columns = ['Média', 'Desvio padrão']\n",
        "grouped['Média'].plot.bar()"
      ]
    },
    {
      "cell_type": "code",
      "source": [],
      "metadata": {
        "id": "AEX_Qcb7ygUZ"
      },
      "execution_count": null,
      "outputs": []
    }
  ]
}